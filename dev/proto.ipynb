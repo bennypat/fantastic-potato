{
 "cells": [
  {
   "cell_type": "code",
   "execution_count": 1,
   "metadata": {},
   "outputs": [],
   "source": [
    "import numpy as np\n",
    "import matplotlib.pyplot as plt\n",
    "\n",
    "\n",
    "rng = np.random.RandomState(42)\n"
   ]
  },
  {
   "cell_type": "code",
   "execution_count": 2,
   "metadata": {},
   "outputs": [],
   "source": [
    "def gaussian_psf(size, sigma):\n",
    "    \"\"\"\n",
    "    Generates a 2D Gaussian kernel.\n",
    "\n",
    "    Parameters:\n",
    "        size (int): Kernel size (must be odd for symmetry).\n",
    "        sigma (float): Standard deviation of the Gaussian.\n",
    "\n",
    "    Returns:\n",
    "        np.ndarray: Normalized 2D Gaussian kernel.\n",
    "    \"\"\"\n",
    "    ax = np.arange(-(size // 2), size // 2 + 1)\n",
    "    xx, yy = np.meshgrid(ax, ax)\n",
    "    kernel = np.exp(-(xx**2 + yy**2) / (2 * sigma**2))\n",
    "    return kernel / np.sum(kernel)  # Normalize to ensure sum = 1\n"
   ]
  },
  {
   "cell_type": "code",
   "execution_count": 3,
   "metadata": {},
   "outputs": [],
   "source": [
    "# Define PSF parameters\n",
    "psf_size = 5  # Kernel size (odd)\n",
    "sigma = 2 # 625e-9 / (2 * np.pi) * 10  # wavelength * f / 2 * pi * D\n",
    "gaussian_kernel = gaussian_psf(psf_size, sigma)"
   ]
  },
  {
   "cell_type": "code",
   "execution_count": 4,
   "metadata": {},
   "outputs": [
    {
     "name": "stdout",
     "output_type": "stream",
     "text": [
      "[[0.02324684 0.03382395 0.03832756 0.03382395 0.02324684]\n",
      " [0.03382395 0.04921356 0.05576627 0.04921356 0.03382395]\n",
      " [0.03832756 0.05576627 0.06319146 0.05576627 0.03832756]\n",
      " [0.03382395 0.04921356 0.05576627 0.04921356 0.03382395]\n",
      " [0.02324684 0.03382395 0.03832756 0.03382395 0.02324684]]\n"
     ]
    },
    {
     "data": {
      "image/png": "[encoded data removed]",
      "text/plain": [
       "<Figure size 432x288 with 2 Axes>"
      ]
     },
     "metadata": {
      "needs_background": "light"
     },
     "output_type": "display_data"
    }
   ],
   "source": [
    "print(gaussian_kernel)\n",
    "\n",
    "plt.imshow(gaussian_kernel, interpolation='none', origin='lower')\n",
    "plt.xlabel('x [pixels]')\n",
    "plt.ylabel('y [pixels]')\n",
    "plt.colorbar()\n",
    "plt.show()"
   ]
  },
  {
   "cell_type": "code",
   "execution_count": 44,
   "metadata": {},
   "outputs": [],
   "source": [
    "img_size = 8\n",
    "im = np.random.randint(1, 10, (img_size, img_size))\n",
    "kern = 2\n",
    "im_pad = np.pad(im, kern, mode=\"reflect\")\n",
    "th = np.argwhere(im_pad > 4)"
   ]
  },
  {
   "cell_type": "code",
   "execution_count": 45,
   "metadata": {},
   "outputs": [
    {
     "data": {
      "text/plain": [
       "(77, 2)"
      ]
     },
     "execution_count": 45,
     "metadata": {},
     "output_type": "execute_result"
    }
   ],
   "source": [
    "th.shape"
   ]
  },
  {
   "cell_type": "code",
   "execution_count": 32,
   "metadata": {},
   "outputs": [
    {
     "data": {
      "text/plain": [
       "5"
      ]
     },
     "execution_count": 32,
     "metadata": {},
     "output_type": "execute_result"
    }
   ],
   "source": [
    "a.pop()"
   ]
  },
  {
   "cell_type": "code",
   "execution_count": 33,
   "metadata": {},
   "outputs": [
    {
     "data": {
      "text/plain": [
       "1"
      ]
     },
     "execution_count": 33,
     "metadata": {},
     "output_type": "execute_result"
    }
   ],
   "source": [
    "a.reverse()\n",
    "a.pop()\n"
   ]
  },
  {
   "cell_type": "code",
   "execution_count": 10,
   "metadata": {},
   "outputs": [
    {
     "data": {
      "text/plain": [
       "matrix([[0.33333333, 0.5       , 0.        , 0.        ],\n",
       "        [1.        , 1.        , 0.        , 0.        ],\n",
       "        [0.        , 0.        , 0.33333333, 0.5       ],\n",
       "        [0.        , 0.        , 1.        , 1.        ]])"
      ]
     },
     "execution_count": 10,
     "metadata": {},
     "output_type": "execute_result"
    }
   ],
   "source": [
    "dt = 1\n",
    "proc_noise_cov = np.array([[dt**3 / 3, dt**2 / 2],[dt*2 / 2, dt]])\n",
    "q = 0.001\n",
    "Q = np.bmat([[proc_noise_cov, np.zeros((2,2))], [np.zeros((2,2)), proc_noise_cov]])\n",
    "Q"
   ]
  },
  {
   "cell_type": "code",
   "execution_count": null,
   "metadata": {},
   "outputs": [],
   "source": []
  },
  {
   "cell_type": "code",
   "execution_count": null,
   "metadata": {},
   "outputs": [],
   "source": []
  }
 ],
 "metadata": {
  "kernelspec": {
   "display_name": ".venv",
   "language": "python",
   "name": "python3"
  },
  "language_info": {
   "codemirror_mode": {
    "name": "ipython",
    "version": 3
   },
   "file_extension": ".py",
   "mimetype": "text/x-python",
   "name": "python",
   "nbconvert_exporter": "python",
   "pygments_lexer": "ipython3",
   "version": "3.13.1"
  }
 },
 "nbformat": 4,
 "nbformat_minor": 2
}
